{
 "cells": [
  {
   "cell_type": "code",
   "execution_count": 1,
   "metadata": {
    "collapsed": true,
    "slideshow": {
     "slide_type": "skip"
    }
   },
   "outputs": [],
   "source": [
    "import json\n",
    "import pandas as pd\n",
    "import seaborn as sns\n",
    "import numpy as np\n",
    "import os\n",
    "os.chdir('../src/')\n",
    "from data_treatment import update_dataframe\n",
    "from make_figures import do_SR, do_SR_mesa\n",
    "%matplotlib inline"
   ]
  },
  {
   "cell_type": "code",
   "execution_count": null,
   "metadata": {
    "collapsed": true,
    "slideshow": {
     "slide_type": "notes"
    }
   },
   "outputs": [],
   "source": [
    "df_deltaA =pd.read_json(\"../data/EDO_DELTA_AMACURO.json\",lines=True)\n",
    "df_Merida =pd.read_json(\"../data/EDO_MERIDA.json\",lines=True)\n",
    "df_Vargas =pd.read_json(\"../data/EDO_VARGAS.json\",lines=True)\n",
    "df_MONAGAS =pd.read_json(\"../data/EDO_MONAGAS.json\",lines=True)"
   ]
  },
  {
   "cell_type": "code",
   "execution_count": null,
   "metadata": {
    "collapsed": false,
    "slideshow": {
     "slide_type": "skip"
    }
   },
   "outputs": [],
   "source": [
    "variables = [u'ABSTENCION', u'ACTAS', u'ACTAS ESCRUTADAS', u'ACTAS VALIDAS',\n",
    "     u'ELECTORES ACTAS TRANSMITIDAS', u'ELECTORES INSCRITOS',\n",
    "       u'VOTANTES ESCRUTADOS', u'VOTOS ESCRUTADOS', u'VOTOS NULOS',\n",
    "       u'VOTOS VALIDOS', u'centro', u'estado', u'mesa',u'municipio', u'parroquia','Abstencion_%',\n",
    "       u'PSUV_%',u'PSUV_N',\n",
    "       u'MUD_%',u'MUD_N', u'rescaled_N',u'parroquia_residual',\n",
    "       u'municipio_residual',u'centro_residual',u'estado_residual',\n",
    "       u'parroquia_standarised_residual', u'municipio_standarised_residual',u'centro_standarised_residual',\n",
    "          u'estado_standarised_residual']\n",
    "\n",
    "#DELTA AMACURO\n",
    "df_out_deltaAmacuro = update_dataframe(df_deltaA,'LIZETA HERNANDEZ','LARISSA GONZALEZ')[variables]\n",
    "\n",
    "#MONAGAS\n",
    "df_out_MONAGAS = update_dataframe(df_MONAGAS,'YELITZE SANTAELLA','GUILLERMO CALL')[variables]\n",
    "\n",
    "#MERIDA\n",
    "df_out_Merida = update_dataframe(df_Merida,'JEHYSON GUZMAN','RAMON GUEVARA')[variables]\n",
    "\n",
    "# VARGAS\n",
    "df_out_Vargas = update_dataframe(df_Vargas, 'JORGE GARCIA CARNEIRO', 'JOSE MANUEL OLIVARES')[variables]\n",
    "\n",
    "frames = [df_out_Merida,df_out_deltaAmacuro,df_out_MONAGAS,df_out_Vargas]\n",
    "df_out = pd.concat(frames)"
   ]
  },
  {
   "cell_type": "markdown",
   "metadata": {},
   "source": [
    "# Data:\n",
    "\n",
    "Results from Merida, Vargas, Monagas and Delta Amacuro.\n",
    "\n",
    "Data unit is the result in each 'mesa' of an electoral centre. "
   ]
  },
  {
   "cell_type": "code",
   "execution_count": null,
   "metadata": {
    "collapsed": false
   },
   "outputs": [],
   "source": [
    "import matplotlib.pyplot as plt\n",
    "from scipy.stats import gaussian_kde\n",
    "\n",
    "sns.pairplot(df_out,vars=['Abstencion_%','PSUV_%']);\n",
    "\n",
    "fig, ax = plt.subplots()\n",
    "xy = np.vstack([df_out['Abstencion_%'], df_out['PSUV_%']])\n",
    "z = gaussian_kde(xy)(xy)\n",
    "ax.scatter(df_out['Abstencion_%'], df_out['PSUV_%'], c=z, s=50)\n",
    "plt.xlabel('Abstencion %')\n",
    "plt.ylabel('PSUV %')\n",
    "plt.show()\n"
   ]
  },
  {
   "cell_type": "markdown",
   "metadata": {
    "slideshow": {
     "slide_type": "slide"
    }
   },
   "source": [
    "# Metrics:\n",
    "\n",
    "Main metric is the Standarised residuals (SR) or Z-score:\n",
    "\n",
    "\n",
    "Residual_centro = ${(1 - \\frac{\\%Psuv_{mesa}}{\\%Psuv_{centro}})}$ \n",
    "\n",
    "Residual_parroquia = ${(1 - \\frac{\\%Psuv_{mesa}}{\\%Psuv_{parroquia}})}$\n",
    "\n",
    "Residual_municipio = ${(1 - \\frac{\\%Psuv_{mesa}}{\\%Psuv_{municipio}})}$\n",
    "\n",
    "Residual_estado = ${(1 - \\frac{\\%Psuv_{mesa}}{\\%Psuv_{estado}})}$\n",
    "\n",
    "\n",
    "Standarised Residual = $\\frac{Residual}{\\sigma_{Residual}}$ for each level (centro, parroquia, municipio...)\n",
    "\n",
    "Deviations in favour of PSUV are shown on negative values of SR."
   ]
  },
  {
   "cell_type": "markdown",
   "metadata": {},
   "source": [
    "# Standarised residual for each mesa with respect to its centro (only centros with more than 1 'mesa'):\n",
    "\n",
    "Gaussian distribution, if an external source affects the result in a 'mesa', it will affect the whole 'centro electoral'.\n",
    "\n",
    "No relative effect observed, this can be our control sample. \n"
   ]
  },
  {
   "cell_type": "code",
   "execution_count": null,
   "metadata": {
    "collapsed": false
   },
   "outputs": [],
   "source": [
    "do_SR(df_out)"
   ]
  },
  {
   "cell_type": "markdown",
   "metadata": {},
   "source": [
    "# Standarised residual for each mesa with respect to its 'parroquia':\n",
    "\n",
    "Observing slighly larger tails on the negative side, where PSUV would show larger percentange of votes wrt the result in the parroquia.\n"
   ]
  },
  {
   "cell_type": "code",
   "execution_count": null,
   "metadata": {
    "collapsed": false
   },
   "outputs": [],
   "source": [
    "do_SR_mesa(df_out)\n"
   ]
  },
  {
   "cell_type": "markdown",
   "metadata": {},
   "source": [
    "# RESULTS PER STATE:\n",
    "\n",
    "Effect changes from state to state:\n",
    "## MERIDA"
   ]
  },
  {
   "cell_type": "code",
   "execution_count": null,
   "metadata": {
    "collapsed": false
   },
   "outputs": [],
   "source": [
    "do_SR(df_out_Merida)"
   ]
  },
  {
   "cell_type": "code",
   "execution_count": null,
   "metadata": {
    "collapsed": false
   },
   "outputs": [],
   "source": [
    "do_SR_mesa(df_out_Merida)"
   ]
  },
  {
   "cell_type": "markdown",
   "metadata": {},
   "source": [
    "## VARGAS"
   ]
  },
  {
   "cell_type": "code",
   "execution_count": null,
   "metadata": {
    "collapsed": false
   },
   "outputs": [],
   "source": [
    "do_SR(df_out_Vargas)"
   ]
  },
  {
   "cell_type": "code",
   "execution_count": null,
   "metadata": {
    "collapsed": false
   },
   "outputs": [],
   "source": [
    "do_SR_mesa(df_out_Vargas)"
   ]
  },
  {
   "cell_type": "markdown",
   "metadata": {},
   "source": [
    "## MONAGAS"
   ]
  },
  {
   "cell_type": "code",
   "execution_count": null,
   "metadata": {
    "collapsed": false
   },
   "outputs": [],
   "source": [
    "do_SR(df_out_MONAGAS)"
   ]
  },
  {
   "cell_type": "code",
   "execution_count": null,
   "metadata": {
    "collapsed": false
   },
   "outputs": [],
   "source": [
    "do_SR_mesa(df_out_MONAGAS)"
   ]
  },
  {
   "cell_type": "markdown",
   "metadata": {},
   "source": [
    "## Delta Amacuro"
   ]
  },
  {
   "cell_type": "code",
   "execution_count": null,
   "metadata": {
    "collapsed": false
   },
   "outputs": [],
   "source": [
    "do_SR(df_deltaA)"
   ]
  },
  {
   "cell_type": "code",
   "execution_count": null,
   "metadata": {
    "collapsed": false
   },
   "outputs": [],
   "source": [
    "do_SR_mesa(df_deltaA)"
   ]
  }
 ],
 "metadata": {
  "celltoolbar": "Slideshow",
  "kernelspec": {
   "display_name": "Python 2",
   "language": "python",
   "name": "python2"
  },
  "language_info": {
   "codemirror_mode": {
    "name": "ipython",
    "version": 2
   },
   "file_extension": ".py",
   "mimetype": "text/x-python",
   "name": "python",
   "nbconvert_exporter": "python",
   "pygments_lexer": "ipython2",
   "version": "2.7.6"
  }
 },
 "nbformat": 4,
 "nbformat_minor": 1
}
