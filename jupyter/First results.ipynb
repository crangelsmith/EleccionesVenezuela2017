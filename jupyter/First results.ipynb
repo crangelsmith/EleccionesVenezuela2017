{
 "cells": [
  {
   "cell_type": "code",
   "execution_count": null,
   "metadata": {
    "collapsed": false,
    "deletable": true,
    "editable": true,
    "slideshow": {
     "slide_type": "skip"
    }
   },
   "outputs": [],
   "source": [
    "import json\n",
    "import pandas as pd\n",
    "import seaborn as sns\n",
    "import numpy as np\n",
    "import os\n",
    "os.chdir('../src/')\n",
    "from data_treatment import update_dataframe, update_all\n",
    "from make_figures import do_SR, do_SR_mesa, do_2dplot, do_all\n",
    "from os import listdir\n",
    "from os.path import isfile, join\n",
    "%matplotlib inline\n",
    "\n",
    "datadir = '../data/'\n",
    "data_files = [f for f in listdir(datadir) if isfile(join(datadir, f))]\n",
    "\n",
    "df = [pd.read_json(\"../data/\"+data,lines=True) for data in data_files]\n",
    "df_final = pd.concat(df)"
   ]
  },
  {
   "cell_type": "code",
   "execution_count": null,
   "metadata": {
    "collapsed": false,
    "deletable": true,
    "editable": true,
    "slideshow": {
     "slide_type": "skip"
    }
   },
   "outputs": [
    {
     "name": "stdout",
     "output_type": "stream",
     "text": [
      "EDO. AMAZONAS\n"
     ]
    },
    {
     "name": "stderr",
     "output_type": "stream",
     "text": [
      "data_treatment.py:18: SettingWithCopyWarning: \n",
      "A value is trying to be set on a copy of a slice from a DataFrame.\n",
      "Try using .loc[row_indexer,col_indexer] = value instead\n",
      "\n",
      "See the caveats in the documentation: http://pandas.pydata.org/pandas-docs/stable/indexing.html#indexing-view-versus-copy\n",
      "  df['Abstencion_%'] = df['ABSTENCION'] / df['ELECTORES INSCRITOS']\n",
      "data_treatment.py:19: SettingWithCopyWarning: \n",
      "A value is trying to be set on a copy of a slice from a DataFrame.\n",
      "Try using .loc[row_indexer,col_indexer] = value instead\n",
      "\n",
      "See the caveats in the documentation: http://pandas.pydata.org/pandas-docs/stable/indexing.html#indexing-view-versus-copy\n",
      "  df['turnout'] = 1 - df['Abstencion_%']\n",
      "data_treatment.py:21: SettingWithCopyWarning: \n",
      "A value is trying to be set on a copy of a slice from a DataFrame.\n",
      "Try using .loc[row_indexer,col_indexer] = value instead\n",
      "\n",
      "See the caveats in the documentation: http://pandas.pydata.org/pandas-docs/stable/indexing.html#indexing-view-versus-copy\n",
      "  df['PSUV_%'] = df[PSUV] / df['VOTOS ESCRUTADOS']\n",
      "data_treatment.py:26: SettingWithCopyWarning: \n",
      "A value is trying to be set on a copy of a slice from a DataFrame.\n",
      "Try using .loc[row_indexer,col_indexer] = value instead\n",
      "\n",
      "See the caveats in the documentation: http://pandas.pydata.org/pandas-docs/stable/indexing.html#indexing-view-versus-copy\n",
      "  df['MUD_%'] = df[MUD] / df['VOTOS ESCRUTADOS']\n",
      "data_treatment.py:30: SettingWithCopyWarning: \n",
      "A value is trying to be set on a copy of a slice from a DataFrame.\n",
      "Try using .loc[row_indexer,col_indexer] = value instead\n",
      "\n",
      "See the caveats in the documentation: http://pandas.pydata.org/pandas-docs/stable/indexing.html#indexing-view-versus-copy\n",
      "  df['PSUV_N'] = df[PSUV]\n",
      "data_treatment.py:31: SettingWithCopyWarning: \n",
      "A value is trying to be set on a copy of a slice from a DataFrame.\n",
      "Try using .loc[row_indexer,col_indexer] = value instead\n",
      "\n",
      "See the caveats in the documentation: http://pandas.pydata.org/pandas-docs/stable/indexing.html#indexing-view-versus-copy\n",
      "  df['MUD_N'] = df[MUD]\n",
      "data_treatment.py:33: SettingWithCopyWarning: \n",
      "A value is trying to be set on a copy of a slice from a DataFrame.\n",
      "Try using .loc[row_indexer,col_indexer] = value instead\n",
      "\n",
      "See the caveats in the documentation: http://pandas.pydata.org/pandas-docs/stable/indexing.html#indexing-view-versus-copy\n",
      "  df['centro'] = df['parroquia']+df['centro']\n",
      "data_treatment.py:35: SettingWithCopyWarning: \n",
      "A value is trying to be set on a copy of a slice from a DataFrame.\n",
      "Try using .loc[row_indexer,col_indexer] = value instead\n",
      "\n",
      "See the caveats in the documentation: http://pandas.pydata.org/pandas-docs/stable/indexing.html#indexing-view-versus-copy\n",
      "  df['rescaled_N'] =  math.log((df['VOTOS VALIDOS'].sum()-df[PSUV].sum())/float(df[PSUV].sum()))\n",
      "data_treatment.py:9: SettingWithCopyWarning: \n",
      "A value is trying to be set on a copy of a slice from a DataFrame.\n",
      "Try using .loc[row_indexer,col_indexer] = value instead\n",
      "\n",
      "See the caveats in the documentation: http://pandas.pydata.org/pandas-docs/stable/indexing.html#indexing-view-versus-copy\n",
      "  df[resid_name]=pd.Series(residual)\n",
      "data_treatment.py:10: SettingWithCopyWarning: \n",
      "A value is trying to be set on a copy of a slice from a DataFrame.\n",
      "Try using .loc[row_indexer,col_indexer] = value instead\n",
      "\n",
      "See the caveats in the documentation: http://pandas.pydata.org/pandas-docs/stable/indexing.html#indexing-view-versus-copy\n",
      "  df[abstention_resid] = pd.Series(abstention_residual)\n",
      "data_treatment.py:11: SettingWithCopyWarning: \n",
      "A value is trying to be set on a copy of a slice from a DataFrame.\n",
      "Try using .loc[row_indexer,col_indexer] = value instead\n",
      "\n",
      "See the caveats in the documentation: http://pandas.pydata.org/pandas-docs/stable/indexing.html#indexing-view-versus-copy\n",
      "  df[level+'_standardised_residual'] = df[resid_name] / df[resid_name].std()\n",
      "data_treatment.py:12: SettingWithCopyWarning: \n",
      "A value is trying to be set on a copy of a slice from a DataFrame.\n",
      "Try using .loc[row_indexer,col_indexer] = value instead\n",
      "\n",
      "See the caveats in the documentation: http://pandas.pydata.org/pandas-docs/stable/indexing.html#indexing-view-versus-copy\n",
      "  df[level+'_standardised_residual_abstention'] = df[abstention_resid] / df[abstention_resid].std()\n"
     ]
    },
    {
     "name": "stdout",
     "output_type": "stream",
     "text": [
      "EDO. ANZOATEGUI\n",
      "EDO. APURE\n",
      "EDO. ARAGUA\n",
      "EDO. BARINAS\n",
      "EDO. BOLIVAR\n",
      "EDO. CARABOBO\n",
      "EDO. COJEDES\n",
      "EDO. DELTA AMACURO\n",
      "EDO. FALCON\n",
      "EDO. GUARICO\n",
      "EDO. LARA\n",
      "EDO. MERIDA\n",
      "EDO. MIRANDA\n",
      "EDO. MONAGAS\n",
      "EDO. NVA.ESPARTA\n",
      "EDO. PORTUGUESA\n"
     ]
    }
   ],
   "source": [
    "variables = [u'ABSTENCION', u'ACTAS', u'ACTAS ESCRUTADAS', u'ACTAS VALIDAS',\n",
    "     u'ELECTORES ACTAS TRANSMITIDAS', u'ELECTORES INSCRITOS',\n",
    "       u'VOTANTES ESCRUTADOS', u'VOTOS ESCRUTADOS', u'VOTOS NULOS',\n",
    "       u'VOTOS VALIDOS', u'centro', u'estado', u'mesa',u'municipio', u'parroquia','Abstencion_%',\n",
    "       u'PSUV_%',u'PSUV_N',u'MUD_%',u'MUD_N', u'rescaled_N',u'parroquia_residual',\n",
    "       u'municipio_residual',u'centro_residual',u'estado_residual',\n",
    "       u'parroquia_standardised_residual', u'municipio_standardised_residual',u'centro_standardised_residual',\n",
    "          u'estado_standardised_residual',u'parroquia_standardised_residual_abstention',]\n",
    "\n",
    "\n",
    "df_out = update_all(df_final)[variables]\n",
    "\n"
   ]
  },
  {
   "cell_type": "code",
   "execution_count": null,
   "metadata": {
    "collapsed": false
   },
   "outputs": [],
   "source": [
    "df_out.shape[0]\n",
    "\n",
    "df_out.dropna(inplace=True)\n",
    "\n",
    "df_out = df_out[df_out['PSUV_%']<1.001]\n",
    "\n",
    "    \n"
   ]
  },
  {
   "cell_type": "markdown",
   "metadata": {
    "deletable": true,
    "editable": true
   },
   "source": [
    "# Data:\n",
    "\n",
    "Results from Merida, Vargas, Monagas and Delta Amacuro.\n",
    "\n",
    "Data unit is the result in each 'mesa' of an electoral centre. "
   ]
  },
  {
   "cell_type": "code",
   "execution_count": null,
   "metadata": {
    "collapsed": false,
    "deletable": true,
    "editable": true
   },
   "outputs": [],
   "source": [
    "import matplotlib.pyplot as plt\n",
    "from scipy.stats import gaussian_kde\n",
    "\n",
    "sns.pairplot(df_out,vars=['Abstencion_%','PSUV_%']);\n",
    "\n",
    "fig, ax = plt.subplots()\n",
    "xy = np.vstack([df_out['Abstencion_%'], df_out['PSUV_%']])\n",
    "z = gaussian_kde(xy)(xy)\n",
    "ax.scatter(df_out['Abstencion_%'], df_out['PSUV_%'], c=z, s=50)\n",
    "plt.xlabel('parroquia_standardised_residual')\n",
    "plt.ylabel('parroquia_standardised_residual_abstention')\n",
    "plt.show()\n",
    "\n",
    "#c = plt.contour(df_out['parroquia_standardised_residual'], df_out['parroquia_standardised_residual_abstention'],z,colors='r',linewidths=4,linestyles='dotted')\n",
    "#plt.show()"
   ]
  },
  {
   "cell_type": "code",
   "execution_count": null,
   "metadata": {
    "collapsed": false,
    "deletable": true,
    "editable": true
   },
   "outputs": [],
   "source": [
    "do_2dplot(df_out,'Abstencion_%','PSUV_%')\n"
   ]
  },
  {
   "cell_type": "markdown",
   "metadata": {
    "deletable": true,
    "editable": true,
    "slideshow": {
     "slide_type": "slide"
    }
   },
   "source": [
    "# Metrics:\n",
    "\n",
    "Main metric is the Standardised residuals (SR) or Z-score:\n",
    "\n",
    "\n",
    "residual_centro = $(1 -\\frac{\\%Psuv_{mesa}}{\\%Psuv_{centro}})$ \n",
    "\n",
    "residual_parroquia = $(1 -\\frac{\\%Psuv_{mesa}}{\\%Psuv_{parroquia}})$\n",
    "\n",
    "$\\underline{Standardised Residual}$ = $\\frac{residual}{\\sigma_{residual}}$ for each level (centro, parroquia, municipio...)\n",
    "\n",
    "Deviations in favour of PSUV are shown on negative values of SR."
   ]
  },
  {
   "cell_type": "markdown",
   "metadata": {
    "deletable": true,
    "editable": true
   },
   "source": [
    "# Standardised residual for each mesa with respect to its centro (only centros with more than 1 'mesa'):\n",
    "\n",
    "Gaussian distribution, if an external source affects the result in a 'mesa', it will affect the whole 'centro electoral'.\n",
    "\n",
    "No large relative effect observed (slight tails), this can be our control sample. \n"
   ]
  },
  {
   "cell_type": "code",
   "execution_count": null,
   "metadata": {
    "collapsed": false,
    "deletable": true,
    "editable": true
   },
   "outputs": [],
   "source": [
    "do_SR(df_out)"
   ]
  },
  {
   "cell_type": "markdown",
   "metadata": {
    "deletable": true,
    "editable": true
   },
   "source": [
    "# Standardised residual for each mesa with respect to its 'parroquia':\n",
    "\n",
    "Observing slighly larger tails on the negative side, where PSUV would show larger percentange of votes wrt the result in the parroquia.\n",
    "\n",
    "All histograms are normalised by number of valid votes in the centre.\n"
   ]
  },
  {
   "cell_type": "code",
   "execution_count": null,
   "metadata": {
    "collapsed": false,
    "deletable": true,
    "editable": true
   },
   "outputs": [],
   "source": [
    "do_SR(df_out)\n"
   ]
  },
  {
   "cell_type": "code",
   "execution_count": null,
   "metadata": {
    "collapsed": false,
    "deletable": true,
    "editable": true
   },
   "outputs": [],
   "source": [
    "do_SR_mesa(df_out)\n"
   ]
  },
  {
   "cell_type": "markdown",
   "metadata": {
    "deletable": true,
    "editable": true
   },
   "source": [
    "# RESULTS PER STATE:\n",
    "\n",
    "Effect changes from state to state:\n",
    "## MERIDA\n",
    "\n",
    "Visible asymmetry on tails for the parroquia SR."
   ]
  },
  {
   "cell_type": "code",
   "execution_count": null,
   "metadata": {
    "collapsed": false,
    "deletable": true,
    "editable": true
   },
   "outputs": [],
   "source": [
    "do_all(df_out_Merida)\n",
    "#do_SR(df_out_Merida)"
   ]
  },
  {
   "cell_type": "code",
   "execution_count": null,
   "metadata": {
    "collapsed": false,
    "deletable": true,
    "editable": true
   },
   "outputs": [],
   "source": [
    "do_SR_mesa(df_out_Merida)"
   ]
  },
  {
   "cell_type": "markdown",
   "metadata": {
    "deletable": true,
    "editable": true
   },
   "source": [
    "## VARGAS"
   ]
  },
  {
   "cell_type": "code",
   "execution_count": null,
   "metadata": {
    "collapsed": false,
    "deletable": true,
    "editable": true
   },
   "outputs": [],
   "source": [
    "do_SR(df_out_Vargas)"
   ]
  },
  {
   "cell_type": "code",
   "execution_count": null,
   "metadata": {
    "collapsed": false,
    "deletable": true,
    "editable": true
   },
   "outputs": [],
   "source": [
    "do_SR_mesa(df_out_Vargas)"
   ]
  },
  {
   "cell_type": "markdown",
   "metadata": {
    "deletable": true,
    "editable": true
   },
   "source": [
    "## MONAGAS"
   ]
  },
  {
   "cell_type": "code",
   "execution_count": null,
   "metadata": {
    "collapsed": false,
    "deletable": true,
    "editable": true
   },
   "outputs": [],
   "source": [
    "do_SR(df_out_MONAGAS)"
   ]
  },
  {
   "cell_type": "code",
   "execution_count": null,
   "metadata": {
    "collapsed": false,
    "deletable": true,
    "editable": true
   },
   "outputs": [],
   "source": [
    "do_SR_mesa(df_out_MONAGAS)"
   ]
  },
  {
   "cell_type": "markdown",
   "metadata": {
    "deletable": true,
    "editable": true
   },
   "source": [
    "## Delta Amacuro"
   ]
  },
  {
   "cell_type": "code",
   "execution_count": null,
   "metadata": {
    "collapsed": false,
    "deletable": true,
    "editable": true
   },
   "outputs": [],
   "source": [
    "do_SR(df_deltaA)"
   ]
  },
  {
   "cell_type": "code",
   "execution_count": null,
   "metadata": {
    "collapsed": false,
    "deletable": true,
    "editable": true
   },
   "outputs": [],
   "source": [
    "do_SR_mesa(df_deltaA)"
   ]
  },
  {
   "cell_type": "markdown",
   "metadata": {
    "deletable": true,
    "editable": true
   },
   "source": [
    "## MIRANDA"
   ]
  },
  {
   "cell_type": "code",
   "execution_count": null,
   "metadata": {
    "collapsed": false,
    "deletable": true,
    "editable": true
   },
   "outputs": [],
   "source": [
    "do_SR(df_MIRANDA)\n",
    "\n"
   ]
  },
  {
   "cell_type": "code",
   "execution_count": null,
   "metadata": {
    "collapsed": false,
    "deletable": true,
    "editable": true
   },
   "outputs": [],
   "source": [
    "print wtf"
   ]
  },
  {
   "cell_type": "code",
   "execution_count": null,
   "metadata": {
    "collapsed": false,
    "deletable": true,
    "editable": true
   },
   "outputs": [],
   "source": [
    "do_SR_mesa(df_MIRANDA)\n"
   ]
  },
  {
   "cell_type": "markdown",
   "metadata": {
    "deletable": true,
    "editable": true
   },
   "source": [
    "## LARA"
   ]
  },
  {
   "cell_type": "code",
   "execution_count": null,
   "metadata": {
    "collapsed": false,
    "deletable": true,
    "editable": true
   },
   "outputs": [],
   "source": [
    "df_out_Lara.dropna(axis=0,inplace=True)\n",
    "\n",
    "do_SR(df_out_Lara)\n"
   ]
  },
  {
   "cell_type": "code",
   "execution_count": null,
   "metadata": {
    "collapsed": false,
    "deletable": true,
    "editable": true
   },
   "outputs": [],
   "source": [
    "do_SR_mesa(df_out_Lara)\n",
    "\n"
   ]
  }
 ],
 "metadata": {
  "kernelspec": {
   "display_name": "Python 2",
   "language": "python",
   "name": "python2"
  },
  "language_info": {
   "codemirror_mode": {
    "name": "ipython",
    "version": 2
   },
   "file_extension": ".py",
   "mimetype": "text/x-python",
   "name": "python",
   "nbconvert_exporter": "python",
   "pygments_lexer": "ipython2",
   "version": "2.7.12"
  }
 },
 "nbformat": 4,
 "nbformat_minor": 1
}
